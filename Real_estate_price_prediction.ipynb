{
 "cells": [
  {
   "cell_type": "markdown",
   "metadata": {},
   "source": [
    "## *A real estate company wants to predict the prices for the future based on the data available. This way it will help them adjust their budget, change the way they work so as to earn profit and also help them decide where to invest in. As a Data Scientist, I will explore the data available, perform preprocessing, check for manipulation and finally apply and evaluate machine learning algorithms to see which algorithm provides the best result.*"
   ]
  },
  {
   "cell_type": "markdown",
   "metadata": {},
   "source": [
    "## Reading the data"
   ]
  },
  {
   "cell_type": "code",
   "execution_count": 1,
   "metadata": {},
   "outputs": [],
   "source": [
    "import pandas as pd\n",
    "import numpy as np\n",
    "%matplotlib inline\n",
    "import matplotlib as plt"
   ]
  },
  {
   "cell_type": "code",
   "execution_count": 2,
   "metadata": {},
   "outputs": [],
   "source": [
    "housing_data = pd.read_csv(\"data.csv\")"
   ]
  },
  {
   "cell_type": "code",
   "execution_count": 3,
   "metadata": {},
   "outputs": [
    {
     "data": {
      "text/html": [
       "<div>\n",
       "<style scoped>\n",
       "    .dataframe tbody tr th:only-of-type {\n",
       "        vertical-align: middle;\n",
       "    }\n",
       "\n",
       "    .dataframe tbody tr th {\n",
       "        vertical-align: top;\n",
       "    }\n",
       "\n",
       "    .dataframe thead th {\n",
       "        text-align: right;\n",
       "    }\n",
       "</style>\n",
       "<table border=\"1\" class=\"dataframe\">\n",
       "  <thead>\n",
       "    <tr style=\"text-align: right;\">\n",
       "      <th></th>\n",
       "      <th>CRIM</th>\n",
       "      <th>ZN</th>\n",
       "      <th>INDUS</th>\n",
       "      <th>CHAS</th>\n",
       "      <th>NOX</th>\n",
       "      <th>RM</th>\n",
       "      <th>AGE</th>\n",
       "      <th>DIS</th>\n",
       "      <th>RAD</th>\n",
       "      <th>TAX</th>\n",
       "      <th>PTRATIO</th>\n",
       "      <th>B</th>\n",
       "      <th>LSTAT</th>\n",
       "      <th>MEDV</th>\n",
       "    </tr>\n",
       "  </thead>\n",
       "  <tbody>\n",
       "    <tr>\n",
       "      <th>0</th>\n",
       "      <td>0.00632</td>\n",
       "      <td>18.0</td>\n",
       "      <td>2.31</td>\n",
       "      <td>0</td>\n",
       "      <td>0.538</td>\n",
       "      <td>6.575</td>\n",
       "      <td>65.2</td>\n",
       "      <td>4.0900</td>\n",
       "      <td>1</td>\n",
       "      <td>296</td>\n",
       "      <td>15.3</td>\n",
       "      <td>396.90</td>\n",
       "      <td>4.98</td>\n",
       "      <td>24.0</td>\n",
       "    </tr>\n",
       "    <tr>\n",
       "      <th>1</th>\n",
       "      <td>0.02731</td>\n",
       "      <td>0.0</td>\n",
       "      <td>7.07</td>\n",
       "      <td>0</td>\n",
       "      <td>0.469</td>\n",
       "      <td>6.421</td>\n",
       "      <td>78.9</td>\n",
       "      <td>4.9671</td>\n",
       "      <td>2</td>\n",
       "      <td>242</td>\n",
       "      <td>17.8</td>\n",
       "      <td>396.90</td>\n",
       "      <td>9.14</td>\n",
       "      <td>21.6</td>\n",
       "    </tr>\n",
       "    <tr>\n",
       "      <th>2</th>\n",
       "      <td>0.02729</td>\n",
       "      <td>0.0</td>\n",
       "      <td>7.07</td>\n",
       "      <td>0</td>\n",
       "      <td>0.469</td>\n",
       "      <td>7.185</td>\n",
       "      <td>61.1</td>\n",
       "      <td>4.9671</td>\n",
       "      <td>2</td>\n",
       "      <td>242</td>\n",
       "      <td>17.8</td>\n",
       "      <td>392.83</td>\n",
       "      <td>4.03</td>\n",
       "      <td>34.7</td>\n",
       "    </tr>\n",
       "    <tr>\n",
       "      <th>3</th>\n",
       "      <td>0.03237</td>\n",
       "      <td>0.0</td>\n",
       "      <td>2.18</td>\n",
       "      <td>0</td>\n",
       "      <td>0.458</td>\n",
       "      <td>6.998</td>\n",
       "      <td>45.8</td>\n",
       "      <td>6.0622</td>\n",
       "      <td>3</td>\n",
       "      <td>222</td>\n",
       "      <td>18.7</td>\n",
       "      <td>394.63</td>\n",
       "      <td>2.94</td>\n",
       "      <td>33.4</td>\n",
       "    </tr>\n",
       "    <tr>\n",
       "      <th>4</th>\n",
       "      <td>0.06905</td>\n",
       "      <td>0.0</td>\n",
       "      <td>2.18</td>\n",
       "      <td>0</td>\n",
       "      <td>0.458</td>\n",
       "      <td>7.147</td>\n",
       "      <td>54.2</td>\n",
       "      <td>6.0622</td>\n",
       "      <td>3</td>\n",
       "      <td>222</td>\n",
       "      <td>18.7</td>\n",
       "      <td>396.90</td>\n",
       "      <td>5.33</td>\n",
       "      <td>36.2</td>\n",
       "    </tr>\n",
       "  </tbody>\n",
       "</table>\n",
       "</div>"
      ],
      "text/plain": [
       "      CRIM    ZN  INDUS  CHAS    NOX     RM   AGE     DIS  RAD  TAX  PTRATIO  \\\n",
       "0  0.00632  18.0   2.31     0  0.538  6.575  65.2  4.0900    1  296     15.3   \n",
       "1  0.02731   0.0   7.07     0  0.469  6.421  78.9  4.9671    2  242     17.8   \n",
       "2  0.02729   0.0   7.07     0  0.469  7.185  61.1  4.9671    2  242     17.8   \n",
       "3  0.03237   0.0   2.18     0  0.458  6.998  45.8  6.0622    3  222     18.7   \n",
       "4  0.06905   0.0   2.18     0  0.458  7.147  54.2  6.0622    3  222     18.7   \n",
       "\n",
       "        B  LSTAT  MEDV  \n",
       "0  396.90   4.98  24.0  \n",
       "1  396.90   9.14  21.6  \n",
       "2  392.83   4.03  34.7  \n",
       "3  394.63   2.94  33.4  \n",
       "4  396.90   5.33  36.2  "
      ]
     },
     "execution_count": 3,
     "metadata": {},
     "output_type": "execute_result"
    }
   ],
   "source": [
    "housing_data.head()"
   ]
  },
  {
   "cell_type": "markdown",
   "metadata": {},
   "source": [
    "# Attribute description\n",
    "    1. CRIM      per capita crime rate by town\n",
    "    2. ZN        proportion of residential land zoned for lots over \n",
    "                 25,000 sq.ft.\n",
    "    3. INDUS     proportion of non-retail business acres per town\n",
    "    4. CHAS      Charles River dummy variable (= 1 if tract bounds \n",
    "                 river; 0 otherwise)\n",
    "    5. NOX       nitric oxides concentration (parts per 10 million)\n",
    "    6. RM        average number of rooms per dwelling\n",
    "    7. AGE       proportion of owner-occupied units built prior to 1940\n",
    "    8. DIS       weighted distances to five Boston employment centres\n",
    "    9. RAD       index of accessibility to radial highways\n",
    "    10. TAX      full-value property-tax rate per $10,000\n",
    "    11. PTRATIO  pupil-teacher ratio by town\n",
    "    12. B        1000(Bk - 0.63)^2 where Bk is the proportion of blacks \n",
    "                 by town\n",
    "    13. LSTAT    % lower status of the population\n",
    "    14. MEDV     Median value of owner-occupied homes in $1000's"
   ]
  },
  {
   "cell_type": "code",
   "execution_count": 4,
   "metadata": {},
   "outputs": [
    {
     "name": "stdout",
     "output_type": "stream",
     "text": [
      "<class 'pandas.core.frame.DataFrame'>\n",
      "RangeIndex: 506 entries, 0 to 505\n",
      "Data columns (total 14 columns):\n",
      " #   Column   Non-Null Count  Dtype  \n",
      "---  ------   --------------  -----  \n",
      " 0   CRIM     506 non-null    float64\n",
      " 1   ZN       506 non-null    float64\n",
      " 2   INDUS    506 non-null    float64\n",
      " 3   CHAS     506 non-null    int64  \n",
      " 4   NOX      506 non-null    float64\n",
      " 5   RM       501 non-null    float64\n",
      " 6   AGE      506 non-null    float64\n",
      " 7   DIS      506 non-null    float64\n",
      " 8   RAD      506 non-null    int64  \n",
      " 9   TAX      506 non-null    int64  \n",
      " 10  PTRATIO  506 non-null    float64\n",
      " 11  B        506 non-null    float64\n",
      " 12  LSTAT    506 non-null    float64\n",
      " 13  MEDV     506 non-null    float64\n",
      "dtypes: float64(11), int64(3)\n",
      "memory usage: 55.5 KB\n"
     ]
    }
   ],
   "source": [
    "housing_data.info()"
   ]
  },
  {
   "cell_type": "code",
   "execution_count": 5,
   "metadata": {},
   "outputs": [
    {
     "data": {
      "text/html": [
       "<div>\n",
       "<style scoped>\n",
       "    .dataframe tbody tr th:only-of-type {\n",
       "        vertical-align: middle;\n",
       "    }\n",
       "\n",
       "    .dataframe tbody tr th {\n",
       "        vertical-align: top;\n",
       "    }\n",
       "\n",
       "    .dataframe thead th {\n",
       "        text-align: right;\n",
       "    }\n",
       "</style>\n",
       "<table border=\"1\" class=\"dataframe\">\n",
       "  <thead>\n",
       "    <tr style=\"text-align: right;\">\n",
       "      <th></th>\n",
       "      <th>CRIM</th>\n",
       "      <th>ZN</th>\n",
       "      <th>INDUS</th>\n",
       "      <th>CHAS</th>\n",
       "      <th>NOX</th>\n",
       "      <th>RM</th>\n",
       "      <th>AGE</th>\n",
       "      <th>DIS</th>\n",
       "      <th>RAD</th>\n",
       "      <th>TAX</th>\n",
       "      <th>PTRATIO</th>\n",
       "      <th>B</th>\n",
       "      <th>LSTAT</th>\n",
       "      <th>MEDV</th>\n",
       "    </tr>\n",
       "  </thead>\n",
       "  <tbody>\n",
       "    <tr>\n",
       "      <th>count</th>\n",
       "      <td>506.000000</td>\n",
       "      <td>506.000000</td>\n",
       "      <td>506.000000</td>\n",
       "      <td>506.000000</td>\n",
       "      <td>506.000000</td>\n",
       "      <td>501.000000</td>\n",
       "      <td>506.000000</td>\n",
       "      <td>506.000000</td>\n",
       "      <td>506.000000</td>\n",
       "      <td>506.000000</td>\n",
       "      <td>506.000000</td>\n",
       "      <td>506.000000</td>\n",
       "      <td>506.000000</td>\n",
       "      <td>506.000000</td>\n",
       "    </tr>\n",
       "    <tr>\n",
       "      <th>mean</th>\n",
       "      <td>3.613524</td>\n",
       "      <td>11.363636</td>\n",
       "      <td>11.136779</td>\n",
       "      <td>0.069170</td>\n",
       "      <td>0.554695</td>\n",
       "      <td>6.285962</td>\n",
       "      <td>68.574901</td>\n",
       "      <td>3.795043</td>\n",
       "      <td>9.549407</td>\n",
       "      <td>408.237154</td>\n",
       "      <td>18.455534</td>\n",
       "      <td>356.674032</td>\n",
       "      <td>12.653063</td>\n",
       "      <td>22.532806</td>\n",
       "    </tr>\n",
       "    <tr>\n",
       "      <th>std</th>\n",
       "      <td>8.601545</td>\n",
       "      <td>23.322453</td>\n",
       "      <td>6.860353</td>\n",
       "      <td>0.253994</td>\n",
       "      <td>0.115878</td>\n",
       "      <td>0.702023</td>\n",
       "      <td>28.148861</td>\n",
       "      <td>2.105710</td>\n",
       "      <td>8.707259</td>\n",
       "      <td>168.537116</td>\n",
       "      <td>2.164946</td>\n",
       "      <td>91.294864</td>\n",
       "      <td>7.141062</td>\n",
       "      <td>9.197104</td>\n",
       "    </tr>\n",
       "    <tr>\n",
       "      <th>min</th>\n",
       "      <td>0.006320</td>\n",
       "      <td>0.000000</td>\n",
       "      <td>0.460000</td>\n",
       "      <td>0.000000</td>\n",
       "      <td>0.385000</td>\n",
       "      <td>3.561000</td>\n",
       "      <td>2.900000</td>\n",
       "      <td>1.129600</td>\n",
       "      <td>1.000000</td>\n",
       "      <td>187.000000</td>\n",
       "      <td>12.600000</td>\n",
       "      <td>0.320000</td>\n",
       "      <td>1.730000</td>\n",
       "      <td>5.000000</td>\n",
       "    </tr>\n",
       "    <tr>\n",
       "      <th>25%</th>\n",
       "      <td>0.082045</td>\n",
       "      <td>0.000000</td>\n",
       "      <td>5.190000</td>\n",
       "      <td>0.000000</td>\n",
       "      <td>0.449000</td>\n",
       "      <td>5.887000</td>\n",
       "      <td>45.025000</td>\n",
       "      <td>2.100175</td>\n",
       "      <td>4.000000</td>\n",
       "      <td>279.000000</td>\n",
       "      <td>17.400000</td>\n",
       "      <td>375.377500</td>\n",
       "      <td>6.950000</td>\n",
       "      <td>17.025000</td>\n",
       "    </tr>\n",
       "    <tr>\n",
       "      <th>50%</th>\n",
       "      <td>0.256510</td>\n",
       "      <td>0.000000</td>\n",
       "      <td>9.690000</td>\n",
       "      <td>0.000000</td>\n",
       "      <td>0.538000</td>\n",
       "      <td>6.209000</td>\n",
       "      <td>77.500000</td>\n",
       "      <td>3.207450</td>\n",
       "      <td>5.000000</td>\n",
       "      <td>330.000000</td>\n",
       "      <td>19.050000</td>\n",
       "      <td>391.440000</td>\n",
       "      <td>11.360000</td>\n",
       "      <td>21.200000</td>\n",
       "    </tr>\n",
       "    <tr>\n",
       "      <th>75%</th>\n",
       "      <td>3.677082</td>\n",
       "      <td>12.500000</td>\n",
       "      <td>18.100000</td>\n",
       "      <td>0.000000</td>\n",
       "      <td>0.624000</td>\n",
       "      <td>6.625000</td>\n",
       "      <td>94.075000</td>\n",
       "      <td>5.188425</td>\n",
       "      <td>24.000000</td>\n",
       "      <td>666.000000</td>\n",
       "      <td>20.200000</td>\n",
       "      <td>396.225000</td>\n",
       "      <td>16.955000</td>\n",
       "      <td>25.000000</td>\n",
       "    </tr>\n",
       "    <tr>\n",
       "      <th>max</th>\n",
       "      <td>88.976200</td>\n",
       "      <td>100.000000</td>\n",
       "      <td>27.740000</td>\n",
       "      <td>1.000000</td>\n",
       "      <td>0.871000</td>\n",
       "      <td>8.780000</td>\n",
       "      <td>100.000000</td>\n",
       "      <td>12.126500</td>\n",
       "      <td>24.000000</td>\n",
       "      <td>711.000000</td>\n",
       "      <td>22.000000</td>\n",
       "      <td>396.900000</td>\n",
       "      <td>37.970000</td>\n",
       "      <td>50.000000</td>\n",
       "    </tr>\n",
       "  </tbody>\n",
       "</table>\n",
       "</div>"
      ],
      "text/plain": [
       "             CRIM          ZN       INDUS        CHAS         NOX          RM  \\\n",
       "count  506.000000  506.000000  506.000000  506.000000  506.000000  501.000000   \n",
       "mean     3.613524   11.363636   11.136779    0.069170    0.554695    6.285962   \n",
       "std      8.601545   23.322453    6.860353    0.253994    0.115878    0.702023   \n",
       "min      0.006320    0.000000    0.460000    0.000000    0.385000    3.561000   \n",
       "25%      0.082045    0.000000    5.190000    0.000000    0.449000    5.887000   \n",
       "50%      0.256510    0.000000    9.690000    0.000000    0.538000    6.209000   \n",
       "75%      3.677082   12.500000   18.100000    0.000000    0.624000    6.625000   \n",
       "max     88.976200  100.000000   27.740000    1.000000    0.871000    8.780000   \n",
       "\n",
       "              AGE         DIS         RAD         TAX     PTRATIO           B  \\\n",
       "count  506.000000  506.000000  506.000000  506.000000  506.000000  506.000000   \n",
       "mean    68.574901    3.795043    9.549407  408.237154   18.455534  356.674032   \n",
       "std     28.148861    2.105710    8.707259  168.537116    2.164946   91.294864   \n",
       "min      2.900000    1.129600    1.000000  187.000000   12.600000    0.320000   \n",
       "25%     45.025000    2.100175    4.000000  279.000000   17.400000  375.377500   \n",
       "50%     77.500000    3.207450    5.000000  330.000000   19.050000  391.440000   \n",
       "75%     94.075000    5.188425   24.000000  666.000000   20.200000  396.225000   \n",
       "max    100.000000   12.126500   24.000000  711.000000   22.000000  396.900000   \n",
       "\n",
       "            LSTAT        MEDV  \n",
       "count  506.000000  506.000000  \n",
       "mean    12.653063   22.532806  \n",
       "std      7.141062    9.197104  \n",
       "min      1.730000    5.000000  \n",
       "25%      6.950000   17.025000  \n",
       "50%     11.360000   21.200000  \n",
       "75%     16.955000   25.000000  \n",
       "max     37.970000   50.000000  "
      ]
     },
     "execution_count": 5,
     "metadata": {},
     "output_type": "execute_result"
    }
   ],
   "source": [
    "housing_data.describe()"
   ]
  },
  {
   "cell_type": "code",
   "execution_count": 6,
   "metadata": {},
   "outputs": [
    {
     "data": {
      "text/plain": [
       "array([[<matplotlib.axes._subplots.AxesSubplot object at 0x0000026D36345D30>,\n",
       "        <matplotlib.axes._subplots.AxesSubplot object at 0x0000026D36A699E8>,\n",
       "        <matplotlib.axes._subplots.AxesSubplot object at 0x0000026D36A9EF98>,\n",
       "        <matplotlib.axes._subplots.AxesSubplot object at 0x0000026D36ADA588>],\n",
       "       [<matplotlib.axes._subplots.AxesSubplot object at 0x0000026D36B0BB38>,\n",
       "        <matplotlib.axes._subplots.AxesSubplot object at 0x0000026D36B4A128>,\n",
       "        <matplotlib.axes._subplots.AxesSubplot object at 0x0000026D36B7A6D8>,\n",
       "        <matplotlib.axes._subplots.AxesSubplot object at 0x0000026D36BABCC0>],\n",
       "       [<matplotlib.axes._subplots.AxesSubplot object at 0x0000026D36BABCF8>,\n",
       "        <matplotlib.axes._subplots.AxesSubplot object at 0x0000026D36C19828>,\n",
       "        <matplotlib.axes._subplots.AxesSubplot object at 0x0000026D36C49DD8>,\n",
       "        <matplotlib.axes._subplots.AxesSubplot object at 0x0000026D36C873C8>],\n",
       "       [<matplotlib.axes._subplots.AxesSubplot object at 0x0000026D36CB7978>,\n",
       "        <matplotlib.axes._subplots.AxesSubplot object at 0x0000026D36CEBF28>,\n",
       "        <matplotlib.axes._subplots.AxesSubplot object at 0x0000026D36D264E0>,\n",
       "        <matplotlib.axes._subplots.AxesSubplot object at 0x0000026D36D56A90>]],\n",
       "      dtype=object)"
      ]
     },
     "execution_count": 6,
     "metadata": {},
     "output_type": "execute_result"
    },
    {
     "data": {
      "image/png": "[encoded data removed]",
      "text/plain": [
       "<Figure size 1440x1080 with 16 Axes>"
      ]
     },
     "metadata": {
      "needs_background": "light"
     },
     "output_type": "display_data"
    }
   ],
   "source": [
    "housing_data.hist(bins=50,figsize=(20,15))"
   ]
  },
  {
   "cell_type": "markdown",
   "metadata": {},
   "source": [
    "## Splitting using manual method(numpy)"
   ]
  },
  {
   "cell_type": "code",
   "execution_count": 7,
   "metadata": {},
   "outputs": [],
   "source": [
    "def splitting(data,test_ratio):\n",
    "    np.random.seed(123)\n",
    "    ratio = np.random.permutation(len(data))\n",
    "    print(ratio)\n",
    "    test_size = int(len(data)*test_ratio)\n",
    "    test_indices = ratio[:test_size]\n",
    "    train_indices = ratio[test_size:]\n",
    "    return data.iloc[train_indices], data.iloc[test_indices]"
   ]
  },
  {
   "cell_type": "code",
   "execution_count": 8,
   "metadata": {},
   "outputs": [
    {
     "name": "stdout",
     "output_type": "stream",
     "text": [
      "[410  85 280 422 199 364   5 415 209 284 201 337  34 160 495  11 494 261\n",
      " 317 474 134 372 179 282 369 485 458  59 332 102 101 275 427  36  75 263\n",
      "  93 443  33 226 190   9 407 162  48 285  15 313  24 375 274 185  13 383\n",
      " 171 446 148 384  55 389 131 502 155 465 216 288  82 432  72 191 107 272\n",
      "  26 249 460 469 376  49 308 374 227 440 320 212 211 333 447  66 327 188\n",
      " 436 189 125  42 200  41 478 229 159 196 345 467 203 441 172  95  54 449\n",
      " 346 351 114 483 138 132 431 343   0 408 150 486 362 258 286 437  20 120\n",
      " 242 335 142 170 241 379 367 388 156 433  31 401  21 484 164 184 416  79\n",
      " 370 397 121 310  91 151 426 472 273  52 181 452 381 192 482 104 500 481\n",
      " 202 412 456 204 442 306   6 147 178 329 298 299 267 182 479 175 297 326\n",
      " 223 221 264 165 248 291 260  38 341 318 236  12 435 289  30 144 425 463\n",
      " 157 287 347 246 328 444 352 234  81 105 378 231  37  19  29  78 455 276\n",
      " 393 470  71  94 498 491  35 128  74 217  53  22 173 145 434 413 166 457\n",
      " 163 237  90 402 210 448 501 423 277 487 403   4 399 218 239 235 468 252\n",
      " 292 127 429 177 143 490 152 466 240  80 117  23 392 266 338  61 108 316\n",
      "  44  89 232 385 450 461 220 167 493   7 115 405 417 245 136 295 368 421\n",
      " 344 419 219 279 293 309 228  10  28 356 207 124  69 161 194 137 386 112\n",
      " 100 336 504 398 110 283 281 187 122 363  92 404 195  62 488 174 414  45\n",
      " 302 439 130  50  97 197 215 238 424 499 400  63 454 169 247 257 251 269\n",
      " 391 496 153 473  40 428 396  65 206   8  77  58 250 119 471 319 141  88\n",
      " 464 307 300 323 254 321  60 349 324 256 301 296 315 438  46  86 109 360\n",
      " 133  16 303 193 462 116 355 330 366 294  27 140 198 377  14  87 265 262\n",
      " 222 243 259 395 406 354 103 149 139  67   3 342  56 304 233 373  51   1\n",
      "  18 268 475 312  25 183 357 186  43 129 359 244 255 270 390 477 154 371\n",
      " 505  70 459 158 480 453 271 146 205 278 394 314 418 331  64 325 497 387\n",
      " 168  76 290 411 350 118 213 353 358 180 348 380  99 361 135 176 445 489\n",
      "  84 503  39 340   2 451 311 305  68 208 492 420 253 334 339 409 111 224\n",
      " 430  32  73  47 126 113  96 225 214  57 123 106  83  17 230  98 476 322\n",
      " 382 365]\n"
     ]
    }
   ],
   "source": [
    "train, test = splitting(housing_data,0.2)"
   ]
  },
  {
   "cell_type": "code",
   "execution_count": 9,
   "metadata": {},
   "outputs": [
    {
     "name": "stdout",
     "output_type": "stream",
     "text": [
      "The number of rows in training dataset is: 405\n",
      "The number of rows in test dataset is: 101\n"
     ]
    }
   ],
   "source": [
    "print(f\"The number of rows in training dataset is: {len(train)}\\nThe number of rows in test dataset is: {len(test)}\")"
   ]
  },
  {
   "cell_type": "markdown",
   "metadata": {},
   "source": [
    "## Splitting using sklearn"
   ]
  },
  {
   "cell_type": "code",
   "execution_count": 10,
   "metadata": {},
   "outputs": [
    {
     "name": "stdout",
     "output_type": "stream",
     "text": [
      "The number of rows in training dataset is: 404\n",
      "The number of rows in test dataset is: 102\n"
     ]
    }
   ],
   "source": [
    "from sklearn.model_selection import train_test_split\n",
    "train_data , test_data = train_test_split(housing_data, test_size = 0.2, random_state = 121)\n",
    "print(f\"The number of rows in training dataset is: {len(train_data)}\\nThe number of rows in test dataset is: {len(test_data)}\")"
   ]
  },
  {
   "cell_type": "markdown",
   "metadata": {},
   "source": [
    "We need to make sure that the values in 'CHAS' variable is appropriately distributed in both test and train dataset. For this, I will make use of stratified shuffling from sklearn package which will make sure that all possible values are included in both train and test"
   ]
  },
  {
   "cell_type": "code",
   "execution_count": 11,
   "metadata": {},
   "outputs": [],
   "source": [
    "from sklearn.model_selection import StratifiedShuffleSplit\n",
    "sss = StratifiedShuffleSplit(n_splits=1, test_size = 0.2, random_state = 121)\n",
    "for train_index, test_index in sss.split(housing_data, housing_data['CHAS']):\n",
    "    strat_train_set = housing_data.loc[train_index]\n",
    "    strat_test_set = housing_data.loc[test_index]"
   ]
  },
  {
   "cell_type": "code",
   "execution_count": 12,
   "metadata": {},
   "outputs": [
    {
     "data": {
      "text/plain": [
       "0    95\n",
       "1     7\n",
       "Name: CHAS, dtype: int64"
      ]
     },
     "execution_count": 12,
     "metadata": {},
     "output_type": "execute_result"
    }
   ],
   "source": [
    "strat_test_set['CHAS'].value_counts()"
   ]
  },
  {
   "cell_type": "code",
   "execution_count": 13,
   "metadata": {},
   "outputs": [
    {
     "data": {
      "text/plain": [
       "0    376\n",
       "1     28\n",
       "Name: CHAS, dtype: int64"
      ]
     },
     "execution_count": 13,
     "metadata": {},
     "output_type": "execute_result"
    }
   ],
   "source": [
    "strat_train_set['CHAS'].value_counts()"
   ]
  },
  {
   "cell_type": "code",
   "execution_count": 14,
   "metadata": {},
   "outputs": [],
   "source": [
    "#copying the training dataset to main dataset as we need to work with the training data\n",
    "housing_data = strat_train_set.copy()"
   ]
  },
  {
   "cell_type": "markdown",
   "metadata": {},
   "source": [
    "## Correlation"
   ]
  },
  {
   "cell_type": "code",
   "execution_count": 15,
   "metadata": {},
   "outputs": [
    {
     "data": {
      "text/plain": [
       "MEDV       1.000000\n",
       "RM         0.724798\n",
       "ZN         0.333895\n",
       "B          0.322021\n",
       "DIS        0.253325\n",
       "CHAS       0.161892\n",
       "AGE       -0.360807\n",
       "RAD       -0.397783\n",
       "CRIM      -0.397820\n",
       "NOX       -0.430715\n",
       "INDUS     -0.475387\n",
       "TAX       -0.478921\n",
       "PTRATIO   -0.507044\n",
       "LSTAT     -0.739273\n",
       "Name: MEDV, dtype: float64"
      ]
     },
     "execution_count": 15,
     "metadata": {},
     "output_type": "execute_result"
    }
   ],
   "source": [
    "corr_matrix = housing_data.corr()\n",
    "corr_matrix['MEDV'].sort_values(ascending = False)"
   ]
  },
  {
   "cell_type": "code",
   "execution_count": 16,
   "metadata": {},
   "outputs": [
    {
     "data": {
      "text/plain": [
       "array([[<matplotlib.axes._subplots.AxesSubplot object at 0x0000026D39BD6278>,\n",
       "        <matplotlib.axes._subplots.AxesSubplot object at 0x0000026D39C14438>,\n",
       "        <matplotlib.axes._subplots.AxesSubplot object at 0x0000026D39C459B0>,\n",
       "        <matplotlib.axes._subplots.AxesSubplot object at 0x0000026D39C76F28>],\n",
       "       [<matplotlib.axes._subplots.AxesSubplot object at 0x0000026D39CB4518>,\n",
       "        <matplotlib.axes._subplots.AxesSubplot object at 0x0000026D39CE4AC8>,\n",
       "        <matplotlib.axes._subplots.AxesSubplot object at 0x0000026D39D220B8>,\n",
       "        <matplotlib.axes._subplots.AxesSubplot object at 0x0000026D39D526A0>],\n",
       "       [<matplotlib.axes._subplots.AxesSubplot object at 0x0000026D39D526D8>,\n",
       "        <matplotlib.axes._subplots.AxesSubplot object at 0x0000026D39DC5208>,\n",
       "        <matplotlib.axes._subplots.AxesSubplot object at 0x0000026D39DF37B8>,\n",
       "        <matplotlib.axes._subplots.AxesSubplot object at 0x0000026D39E24D68>],\n",
       "       [<matplotlib.axes._subplots.AxesSubplot object at 0x0000026D39E61358>,\n",
       "        <matplotlib.axes._subplots.AxesSubplot object at 0x0000026D39E92908>,\n",
       "        <matplotlib.axes._subplots.AxesSubplot object at 0x0000026D39EC6EB8>,\n",
       "        <matplotlib.axes._subplots.AxesSubplot object at 0x0000026D39F014A8>]],\n",
       "      dtype=object)"
      ]
     },
     "execution_count": 16,
     "metadata": {},
     "output_type": "execute_result"
    },
    {
     "data": {
      "image/png": "[encoded data removed]",
      "text/plain": [
       "<Figure size 864x576 with 16 Axes>"
      ]
     },
     "metadata": {
      "needs_background": "light"
     },
     "output_type": "display_data"
    }
   ],
   "source": [
    "from pandas.plotting import scatter_matrix\n",
    "attr = [\"MEDV\", \"RM\",\"ZN\",\"LSTAT\"]\n",
    "scatter_matrix(housing_data[attr], figsize=(12,8))"
   ]
  },
  {
   "cell_type": "code",
   "execution_count": 17,
   "metadata": {},
   "outputs": [
    {
     "data": {
      "text/plain": [
       "<matplotlib.axes._subplots.AxesSubplot at 0x26d3a304dd8>"
      ]
     },
     "execution_count": 17,
     "metadata": {},
     "output_type": "execute_result"
    },
    {
     "data": {
      "image/png": "[encoded data removed]",
      "text/plain": [
       "<Figure size 432x288 with 1 Axes>"
      ]
     },
     "metadata": {
      "needs_background": "light"
     },
     "output_type": "display_data"
    }
   ],
   "source": [
    "housing_data.plot(kind = \"scatter\", x = \"RM\", y=\"MEDV\", alpha=0.8)"
   ]
  },
  {
   "cell_type": "code",
   "execution_count": 18,
   "metadata": {},
   "outputs": [
    {
     "data": {
      "text/plain": [
       "254     51.571709\n",
       "247     53.003534\n",
       "215     44.807506\n",
       "445    103.111937\n",
       "245     58.876004\n",
       "          ...    \n",
       "438    112.215670\n",
       "356    107.211848\n",
       "261     35.106383\n",
       "339     37.426901\n",
       "441    103.965033\n",
       "Name: TAX_PER_ROOM, Length: 404, dtype: float64"
      ]
     },
     "execution_count": 18,
     "metadata": {},
     "output_type": "execute_result"
    }
   ],
   "source": [
    "housing_data[\"TAX_PER_ROOM\"] = housing_data[\"TAX\"]/housing_data[\"RM\"]\n",
    "housing_data[\"TAX_PER_ROOM\"]"
   ]
  },
  {
   "cell_type": "code",
   "execution_count": 19,
   "metadata": {},
   "outputs": [
    {
     "data": {
      "text/plain": [
       "MEDV            1.000000\n",
       "RM              0.724798\n",
       "ZN              0.333895\n",
       "B               0.322021\n",
       "DIS             0.253325\n",
       "CHAS            0.161892\n",
       "AGE            -0.360807\n",
       "RAD            -0.397783\n",
       "CRIM           -0.397820\n",
       "NOX            -0.430715\n",
       "INDUS          -0.475387\n",
       "TAX            -0.478921\n",
       "PTRATIO        -0.507044\n",
       "TAX_PER_ROOM   -0.559289\n",
       "LSTAT          -0.739273\n",
       "Name: MEDV, dtype: float64"
      ]
     },
     "execution_count": 19,
     "metadata": {},
     "output_type": "execute_result"
    }
   ],
   "source": [
    "corr_matrix = housing_data.corr()\n",
    "corr_matrix['MEDV'].sort_values(ascending = False)"
   ]
  },
  {
   "cell_type": "code",
   "execution_count": 20,
   "metadata": {},
   "outputs": [
    {
     "data": {
      "text/plain": [
       "<matplotlib.axes._subplots.AxesSubplot at 0x26d3a158d68>"
      ]
     },
     "execution_count": 20,
     "metadata": {},
     "output_type": "execute_result"
    },
    {
     "data": {
      "image/png": "[encoded data removed]",
      "text/plain": [
       "<Figure size 432x288 with 1 Axes>"
      ]
     },
     "metadata": {
      "needs_background": "light"
     },
     "output_type": "display_data"
    }
   ],
   "source": [
    "housing_data.plot(kind = \"scatter\", x = \"TAX_PER_ROOM\", y=\"MEDV\", alpha=0.8)"
   ]
  },
  {
   "cell_type": "markdown",
   "metadata": {},
   "source": [
    "## Handling Missing data\n",
    "\n",
    "1. Remove the missing data points\n",
    "2. Remove the whole attribute/column/row\n",
    "3. Set some value(0,mean or median)"
   ]
  },
  {
   "cell_type": "code",
   "execution_count": 21,
   "metadata": {},
   "outputs": [],
   "source": [
    "housing_label = strat_train_set[\"MEDV\"].copy()\n",
    "housing_data = strat_train_set.drop(\"MEDV\", axis = 1)"
   ]
  },
  {
   "cell_type": "code",
   "execution_count": 22,
   "metadata": {},
   "outputs": [
    {
     "data": {
      "text/plain": [
       "CRIM       0\n",
       "ZN         0\n",
       "INDUS      0\n",
       "CHAS       0\n",
       "NOX        0\n",
       "RM         1\n",
       "AGE        0\n",
       "DIS        0\n",
       "RAD        0\n",
       "TAX        0\n",
       "PTRATIO    0\n",
       "B          0\n",
       "LSTAT      0\n",
       "dtype: int64"
      ]
     },
     "execution_count": 22,
     "metadata": {},
     "output_type": "execute_result"
    }
   ],
   "source": [
    "#calculating number if NA values in each attributes\n",
    "housing_data.isna().sum()"
   ]
  },
  {
   "cell_type": "code",
   "execution_count": 23,
   "metadata": {},
   "outputs": [
    {
     "data": {
      "text/plain": [
       "(403, 13)"
      ]
     },
     "execution_count": 23,
     "metadata": {},
     "output_type": "execute_result"
    }
   ],
   "source": [
    "#Since there is a strong correlation, we cannot drop the column. However we will see how every step is executed if need be\n",
    "\n",
    "#Option 1\n",
    "\n",
    "x = housing_data.dropna(subset = ['RM'])\n",
    "x.shape"
   ]
  },
  {
   "cell_type": "code",
   "execution_count": 24,
   "metadata": {},
   "outputs": [
    {
     "data": {
      "text/plain": [
       "(404, 12)"
      ]
     },
     "execution_count": 24,
     "metadata": {},
     "output_type": "execute_result"
    }
   ],
   "source": [
    "#option 2\n",
    "\n",
    "y = housing_data.drop('RM', axis = 1)\n",
    "y.shape"
   ]
  },
  {
   "cell_type": "code",
   "execution_count": 25,
   "metadata": {},
   "outputs": [
    {
     "data": {
      "text/plain": [
       "254    6.108\n",
       "247    6.226\n",
       "215    6.182\n",
       "445    6.459\n",
       "245    5.605\n",
       "       ...  \n",
       "438    5.935\n",
       "356    6.212\n",
       "261    7.520\n",
       "339    5.985\n",
       "441    6.406\n",
       "Name: RM, Length: 404, dtype: float64"
      ]
     },
     "execution_count": 25,
     "metadata": {},
     "output_type": "execute_result"
    }
   ],
   "source": [
    "#option 3\n",
    "\n",
    "z = housing_data['RM'].fillna(housing_data['RM'].median()) #can be mean or 0 as well\n",
    "z"
   ]
  },
  {
   "cell_type": "code",
   "execution_count": 26,
   "metadata": {},
   "outputs": [
    {
     "data": {
      "text/html": [
       "<div>\n",
       "<style scoped>\n",
       "    .dataframe tbody tr th:only-of-type {\n",
       "        vertical-align: middle;\n",
       "    }\n",
       "\n",
       "    .dataframe tbody tr th {\n",
       "        vertical-align: top;\n",
       "    }\n",
       "\n",
       "    .dataframe thead th {\n",
       "        text-align: right;\n",
       "    }\n",
       "</style>\n",
       "<table border=\"1\" class=\"dataframe\">\n",
       "  <thead>\n",
       "    <tr style=\"text-align: right;\">\n",
       "      <th></th>\n",
       "      <th>CRIM</th>\n",
       "      <th>ZN</th>\n",
       "      <th>INDUS</th>\n",
       "      <th>CHAS</th>\n",
       "      <th>NOX</th>\n",
       "      <th>RM</th>\n",
       "      <th>AGE</th>\n",
       "      <th>DIS</th>\n",
       "      <th>RAD</th>\n",
       "      <th>TAX</th>\n",
       "      <th>PTRATIO</th>\n",
       "      <th>B</th>\n",
       "      <th>LSTAT</th>\n",
       "    </tr>\n",
       "  </thead>\n",
       "  <tbody>\n",
       "    <tr>\n",
       "      <th>count</th>\n",
       "      <td>404.000000</td>\n",
       "      <td>404.000000</td>\n",
       "      <td>404.000000</td>\n",
       "      <td>404.000000</td>\n",
       "      <td>404.000000</td>\n",
       "      <td>403.000000</td>\n",
       "      <td>404.000000</td>\n",
       "      <td>404.000000</td>\n",
       "      <td>404.000000</td>\n",
       "      <td>404.000000</td>\n",
       "      <td>404.000000</td>\n",
       "      <td>404.000000</td>\n",
       "      <td>404.000000</td>\n",
       "    </tr>\n",
       "    <tr>\n",
       "      <th>mean</th>\n",
       "      <td>3.871600</td>\n",
       "      <td>10.699257</td>\n",
       "      <td>11.471238</td>\n",
       "      <td>0.069307</td>\n",
       "      <td>0.561435</td>\n",
       "      <td>6.260499</td>\n",
       "      <td>68.976733</td>\n",
       "      <td>3.742731</td>\n",
       "      <td>9.698020</td>\n",
       "      <td>412.732673</td>\n",
       "      <td>18.422030</td>\n",
       "      <td>356.592896</td>\n",
       "      <td>12.924134</td>\n",
       "    </tr>\n",
       "    <tr>\n",
       "      <th>std</th>\n",
       "      <td>9.141635</td>\n",
       "      <td>22.325069</td>\n",
       "      <td>6.863481</td>\n",
       "      <td>0.254290</td>\n",
       "      <td>0.119389</td>\n",
       "      <td>0.704667</td>\n",
       "      <td>28.612090</td>\n",
       "      <td>2.120311</td>\n",
       "      <td>8.756587</td>\n",
       "      <td>168.349447</td>\n",
       "      <td>2.174528</td>\n",
       "      <td>91.511674</td>\n",
       "      <td>7.177466</td>\n",
       "    </tr>\n",
       "    <tr>\n",
       "      <th>min</th>\n",
       "      <td>0.009060</td>\n",
       "      <td>0.000000</td>\n",
       "      <td>0.460000</td>\n",
       "      <td>0.000000</td>\n",
       "      <td>0.385000</td>\n",
       "      <td>3.561000</td>\n",
       "      <td>2.900000</td>\n",
       "      <td>1.169100</td>\n",
       "      <td>1.000000</td>\n",
       "      <td>187.000000</td>\n",
       "      <td>12.600000</td>\n",
       "      <td>0.320000</td>\n",
       "      <td>1.730000</td>\n",
       "    </tr>\n",
       "    <tr>\n",
       "      <th>25%</th>\n",
       "      <td>0.086097</td>\n",
       "      <td>0.000000</td>\n",
       "      <td>5.560000</td>\n",
       "      <td>0.000000</td>\n",
       "      <td>0.453000</td>\n",
       "      <td>5.876500</td>\n",
       "      <td>45.550000</td>\n",
       "      <td>2.064700</td>\n",
       "      <td>4.000000</td>\n",
       "      <td>283.250000</td>\n",
       "      <td>17.000000</td>\n",
       "      <td>375.085000</td>\n",
       "      <td>7.362500</td>\n",
       "    </tr>\n",
       "    <tr>\n",
       "      <th>50%</th>\n",
       "      <td>0.290250</td>\n",
       "      <td>0.000000</td>\n",
       "      <td>9.900000</td>\n",
       "      <td>0.000000</td>\n",
       "      <td>0.538000</td>\n",
       "      <td>6.176000</td>\n",
       "      <td>78.950000</td>\n",
       "      <td>3.057250</td>\n",
       "      <td>5.000000</td>\n",
       "      <td>345.000000</td>\n",
       "      <td>19.000000</td>\n",
       "      <td>391.190000</td>\n",
       "      <td>11.645000</td>\n",
       "    </tr>\n",
       "    <tr>\n",
       "      <th>75%</th>\n",
       "      <td>3.716457</td>\n",
       "      <td>12.500000</td>\n",
       "      <td>18.100000</td>\n",
       "      <td>0.000000</td>\n",
       "      <td>0.647000</td>\n",
       "      <td>6.591500</td>\n",
       "      <td>94.525000</td>\n",
       "      <td>5.141475</td>\n",
       "      <td>24.000000</td>\n",
       "      <td>666.000000</td>\n",
       "      <td>20.200000</td>\n",
       "      <td>396.097500</td>\n",
       "      <td>17.167500</td>\n",
       "    </tr>\n",
       "    <tr>\n",
       "      <th>max</th>\n",
       "      <td>88.976200</td>\n",
       "      <td>95.000000</td>\n",
       "      <td>27.740000</td>\n",
       "      <td>1.000000</td>\n",
       "      <td>0.871000</td>\n",
       "      <td>8.725000</td>\n",
       "      <td>100.000000</td>\n",
       "      <td>12.126500</td>\n",
       "      <td>24.000000</td>\n",
       "      <td>711.000000</td>\n",
       "      <td>22.000000</td>\n",
       "      <td>396.900000</td>\n",
       "      <td>34.770000</td>\n",
       "    </tr>\n",
       "  </tbody>\n",
       "</table>\n",
       "</div>"
      ],
      "text/plain": [
       "             CRIM          ZN       INDUS        CHAS         NOX          RM  \\\n",
       "count  404.000000  404.000000  404.000000  404.000000  404.000000  403.000000   \n",
       "mean     3.871600   10.699257   11.471238    0.069307    0.561435    6.260499   \n",
       "std      9.141635   22.325069    6.863481    0.254290    0.119389    0.704667   \n",
       "min      0.009060    0.000000    0.460000    0.000000    0.385000    3.561000   \n",
       "25%      0.086097    0.000000    5.560000    0.000000    0.453000    5.876500   \n",
       "50%      0.290250    0.000000    9.900000    0.000000    0.538000    6.176000   \n",
       "75%      3.716457   12.500000   18.100000    0.000000    0.647000    6.591500   \n",
       "max     88.976200   95.000000   27.740000    1.000000    0.871000    8.725000   \n",
       "\n",
       "              AGE         DIS         RAD         TAX     PTRATIO           B  \\\n",
       "count  404.000000  404.000000  404.000000  404.000000  404.000000  404.000000   \n",
       "mean    68.976733    3.742731    9.698020  412.732673   18.422030  356.592896   \n",
       "std     28.612090    2.120311    8.756587  168.349447    2.174528   91.511674   \n",
       "min      2.900000    1.169100    1.000000  187.000000   12.600000    0.320000   \n",
       "25%     45.550000    2.064700    4.000000  283.250000   17.000000  375.085000   \n",
       "50%     78.950000    3.057250    5.000000  345.000000   19.000000  391.190000   \n",
       "75%     94.525000    5.141475   24.000000  666.000000   20.200000  396.097500   \n",
       "max    100.000000   12.126500   24.000000  711.000000   22.000000  396.900000   \n",
       "\n",
       "            LSTAT  \n",
       "count  404.000000  \n",
       "mean    12.924134  \n",
       "std      7.177466  \n",
       "min      1.730000  \n",
       "25%      7.362500  \n",
       "50%     11.645000  \n",
       "75%     17.167500  \n",
       "max     34.770000  "
      ]
     },
     "execution_count": 26,
     "metadata": {},
     "output_type": "execute_result"
    }
   ],
   "source": [
    "housing_data.describe()"
   ]
  },
  {
   "cell_type": "markdown",
   "metadata": {},
   "source": [
    "# making the 3rd option automated using sklearn"
   ]
  },
  {
   "cell_type": "code",
   "execution_count": 27,
   "metadata": {},
   "outputs": [
    {
     "data": {
      "text/plain": [
       "SimpleImputer(add_indicator=False, copy=True, fill_value=None,\n",
       "              missing_values=nan, strategy='median', verbose=0)"
      ]
     },
     "execution_count": 27,
     "metadata": {},
     "output_type": "execute_result"
    }
   ],
   "source": [
    "from sklearn.impute import SimpleImputer\n",
    "impute = SimpleImputer(strategy = \"median\")\n",
    "\n",
    "#this will work for all the attributes in the dataset - replace all the NA values in any column as its column's median value\n",
    "impute.fit(housing_data)"
   ]
  },
  {
   "cell_type": "code",
   "execution_count": 28,
   "metadata": {},
   "outputs": [
    {
     "data": {
      "text/plain": [
       "array([2.90250e-01, 0.00000e+00, 9.90000e+00, 0.00000e+00, 5.38000e-01,\n",
       "       6.17600e+00, 7.89500e+01, 3.05725e+00, 5.00000e+00, 3.45000e+02,\n",
       "       1.90000e+01, 3.91190e+02, 1.16450e+01])"
      ]
     },
     "execution_count": 28,
     "metadata": {},
     "output_type": "execute_result"
    }
   ],
   "source": [
    "#median of each attribute after imputing\n",
    "impute.statistics_"
   ]
  },
  {
   "cell_type": "code",
   "execution_count": 29,
   "metadata": {},
   "outputs": [],
   "source": [
    "X_impute = impute.transform(housing_data)"
   ]
  },
  {
   "cell_type": "code",
   "execution_count": 30,
   "metadata": {},
   "outputs": [
    {
     "data": {
      "text/html": [
       "<div>\n",
       "<style scoped>\n",
       "    .dataframe tbody tr th:only-of-type {\n",
       "        vertical-align: middle;\n",
       "    }\n",
       "\n",
       "    .dataframe tbody tr th {\n",
       "        vertical-align: top;\n",
       "    }\n",
       "\n",
       "    .dataframe thead th {\n",
       "        text-align: right;\n",
       "    }\n",
       "</style>\n",
       "<table border=\"1\" class=\"dataframe\">\n",
       "  <thead>\n",
       "    <tr style=\"text-align: right;\">\n",
       "      <th></th>\n",
       "      <th>CRIM</th>\n",
       "      <th>ZN</th>\n",
       "      <th>INDUS</th>\n",
       "      <th>CHAS</th>\n",
       "      <th>NOX</th>\n",
       "      <th>RM</th>\n",
       "      <th>AGE</th>\n",
       "      <th>DIS</th>\n",
       "      <th>RAD</th>\n",
       "      <th>TAX</th>\n",
       "      <th>PTRATIO</th>\n",
       "      <th>B</th>\n",
       "      <th>LSTAT</th>\n",
       "    </tr>\n",
       "  </thead>\n",
       "  <tbody>\n",
       "    <tr>\n",
       "      <th>count</th>\n",
       "      <td>404.000000</td>\n",
       "      <td>404.000000</td>\n",
       "      <td>404.000000</td>\n",
       "      <td>404.000000</td>\n",
       "      <td>404.000000</td>\n",
       "      <td>404.000000</td>\n",
       "      <td>404.000000</td>\n",
       "      <td>404.000000</td>\n",
       "      <td>404.000000</td>\n",
       "      <td>404.000000</td>\n",
       "      <td>404.000000</td>\n",
       "      <td>404.000000</td>\n",
       "      <td>404.000000</td>\n",
       "    </tr>\n",
       "    <tr>\n",
       "      <th>mean</th>\n",
       "      <td>3.871600</td>\n",
       "      <td>10.699257</td>\n",
       "      <td>11.471238</td>\n",
       "      <td>0.069307</td>\n",
       "      <td>0.561435</td>\n",
       "      <td>6.260290</td>\n",
       "      <td>68.976733</td>\n",
       "      <td>3.742731</td>\n",
       "      <td>9.698020</td>\n",
       "      <td>412.732673</td>\n",
       "      <td>18.422030</td>\n",
       "      <td>356.592896</td>\n",
       "      <td>12.924134</td>\n",
       "    </tr>\n",
       "    <tr>\n",
       "      <th>std</th>\n",
       "      <td>9.141635</td>\n",
       "      <td>22.325069</td>\n",
       "      <td>6.863481</td>\n",
       "      <td>0.254290</td>\n",
       "      <td>0.119389</td>\n",
       "      <td>0.703805</td>\n",
       "      <td>28.612090</td>\n",
       "      <td>2.120311</td>\n",
       "      <td>8.756587</td>\n",
       "      <td>168.349447</td>\n",
       "      <td>2.174528</td>\n",
       "      <td>91.511674</td>\n",
       "      <td>7.177466</td>\n",
       "    </tr>\n",
       "    <tr>\n",
       "      <th>min</th>\n",
       "      <td>0.009060</td>\n",
       "      <td>0.000000</td>\n",
       "      <td>0.460000</td>\n",
       "      <td>0.000000</td>\n",
       "      <td>0.385000</td>\n",
       "      <td>3.561000</td>\n",
       "      <td>2.900000</td>\n",
       "      <td>1.169100</td>\n",
       "      <td>1.000000</td>\n",
       "      <td>187.000000</td>\n",
       "      <td>12.600000</td>\n",
       "      <td>0.320000</td>\n",
       "      <td>1.730000</td>\n",
       "    </tr>\n",
       "    <tr>\n",
       "      <th>25%</th>\n",
       "      <td>0.086097</td>\n",
       "      <td>0.000000</td>\n",
       "      <td>5.560000</td>\n",
       "      <td>0.000000</td>\n",
       "      <td>0.453000</td>\n",
       "      <td>5.876750</td>\n",
       "      <td>45.550000</td>\n",
       "      <td>2.064700</td>\n",
       "      <td>4.000000</td>\n",
       "      <td>283.250000</td>\n",
       "      <td>17.000000</td>\n",
       "      <td>375.085000</td>\n",
       "      <td>7.362500</td>\n",
       "    </tr>\n",
       "    <tr>\n",
       "      <th>50%</th>\n",
       "      <td>0.290250</td>\n",
       "      <td>0.000000</td>\n",
       "      <td>9.900000</td>\n",
       "      <td>0.000000</td>\n",
       "      <td>0.538000</td>\n",
       "      <td>6.176000</td>\n",
       "      <td>78.950000</td>\n",
       "      <td>3.057250</td>\n",
       "      <td>5.000000</td>\n",
       "      <td>345.000000</td>\n",
       "      <td>19.000000</td>\n",
       "      <td>391.190000</td>\n",
       "      <td>11.645000</td>\n",
       "    </tr>\n",
       "    <tr>\n",
       "      <th>75%</th>\n",
       "      <td>3.716457</td>\n",
       "      <td>12.500000</td>\n",
       "      <td>18.100000</td>\n",
       "      <td>0.000000</td>\n",
       "      <td>0.647000</td>\n",
       "      <td>6.590750</td>\n",
       "      <td>94.525000</td>\n",
       "      <td>5.141475</td>\n",
       "      <td>24.000000</td>\n",
       "      <td>666.000000</td>\n",
       "      <td>20.200000</td>\n",
       "      <td>396.097500</td>\n",
       "      <td>17.167500</td>\n",
       "    </tr>\n",
       "    <tr>\n",
       "      <th>max</th>\n",
       "      <td>88.976200</td>\n",
       "      <td>95.000000</td>\n",
       "      <td>27.740000</td>\n",
       "      <td>1.000000</td>\n",
       "      <td>0.871000</td>\n",
       "      <td>8.725000</td>\n",
       "      <td>100.000000</td>\n",
       "      <td>12.126500</td>\n",
       "      <td>24.000000</td>\n",
       "      <td>711.000000</td>\n",
       "      <td>22.000000</td>\n",
       "      <td>396.900000</td>\n",
       "      <td>34.770000</td>\n",
       "    </tr>\n",
       "  </tbody>\n",
       "</table>\n",
       "</div>"
      ],
      "text/plain": [
       "             CRIM          ZN       INDUS        CHAS         NOX          RM  \\\n",
       "count  404.000000  404.000000  404.000000  404.000000  404.000000  404.000000   \n",
       "mean     3.871600   10.699257   11.471238    0.069307    0.561435    6.260290   \n",
       "std      9.141635   22.325069    6.863481    0.254290    0.119389    0.703805   \n",
       "min      0.009060    0.000000    0.460000    0.000000    0.385000    3.561000   \n",
       "25%      0.086097    0.000000    5.560000    0.000000    0.453000    5.876750   \n",
       "50%      0.290250    0.000000    9.900000    0.000000    0.538000    6.176000   \n",
       "75%      3.716457   12.500000   18.100000    0.000000    0.647000    6.590750   \n",
       "max     88.976200   95.000000   27.740000    1.000000    0.871000    8.725000   \n",
       "\n",
       "              AGE         DIS         RAD         TAX     PTRATIO           B  \\\n",
       "count  404.000000  404.000000  404.000000  404.000000  404.000000  404.000000   \n",
       "mean    68.976733    3.742731    9.698020  412.732673   18.422030  356.592896   \n",
       "std     28.612090    2.120311    8.756587  168.349447    2.174528   91.511674   \n",
       "min      2.900000    1.169100    1.000000  187.000000   12.600000    0.320000   \n",
       "25%     45.550000    2.064700    4.000000  283.250000   17.000000  375.085000   \n",
       "50%     78.950000    3.057250    5.000000  345.000000   19.000000  391.190000   \n",
       "75%     94.525000    5.141475   24.000000  666.000000   20.200000  396.097500   \n",
       "max    100.000000   12.126500   24.000000  711.000000   22.000000  396.900000   \n",
       "\n",
       "            LSTAT  \n",
       "count  404.000000  \n",
       "mean    12.924134  \n",
       "std      7.177466  \n",
       "min      1.730000  \n",
       "25%      7.362500  \n",
       "50%     11.645000  \n",
       "75%     17.167500  \n",
       "max     34.770000  "
      ]
     },
     "execution_count": 30,
     "metadata": {},
     "output_type": "execute_result"
    }
   ],
   "source": [
    "housing_data_tr = pd.DataFrame(X_impute, columns = housing_data.columns)\n",
    "housing_data_tr.describe()"
   ]
  },
  {
   "cell_type": "markdown",
   "metadata": {},
   "source": [
    "# Designing Sklearn\n",
    "\n",
    "The objects in scikit learn are -\n",
    "1. Estimators - It is used to estimate something provided there are some conditions. Imputation is a good example of estimators. \n",
    "This includes a fit and the transform method where fit method fits the dataset with some conditions and calculate the internal parameters. \n",
    "\n",
    "2. Transformers - It learns from the fit method and calculates a task by taking input values. It has a function \"fit_transform\" which will fit and transform in a single step\n",
    "\n",
    "3. Predictors - LinearRegression has fit() and predict() method along with the accuracy score of the model."
   ]
  },
  {
   "cell_type": "markdown",
   "metadata": {},
   "source": [
    "## Feature scaling\n",
    "This is used to bring out one common scale for every interger value/column\n",
    "\n",
    "1. min-max or Normalisation method\n",
    "\n",
    "(value - min)/(max - min) The range would be from 0 to 1.\n",
    "sklearn has MinMaxScaler to perform this step\n",
    "\n",
    "2. Standardization\n",
    "\n",
    "(value - mean)/SD\n",
    "The result would have a variance of 1 and mean would be equal to the original mean.\n",
    "sklearn has StandardScaler to perform this step\n"
   ]
  },
  {
   "cell_type": "markdown",
   "metadata": {},
   "source": [
    "## Creating pipeline\n",
    "\n",
    "Right from imputing with median values, feature scaling to machine learning, everything is automated using pipeline"
   ]
  },
  {
   "cell_type": "code",
   "execution_count": 31,
   "metadata": {},
   "outputs": [],
   "source": [
    "from sklearn.pipeline import Pipeline\n",
    "from sklearn.preprocessing import StandardScaler\n",
    "\n",
    "pipeline_data = Pipeline([\n",
    "    ('Imputer', SimpleImputer(strategy = \"median\")),\n",
    "    ('std_scaler', StandardScaler())\n",
    "])"
   ]
  },
  {
   "cell_type": "code",
   "execution_count": 40,
   "metadata": {},
   "outputs": [],
   "source": [
    "#converts to numpy array\n",
    "housing_tr = pipeline_data.fit_transform(housing_data)"
   ]
  },
  {
   "cell_type": "code",
   "execution_count": 41,
   "metadata": {},
   "outputs": [
    {
     "data": {
      "text/plain": [
       "array([[-0.41875995,  3.10801593, -1.14241568, ..., -0.93102374,\n",
       "         0.39713086, -0.88638691],\n",
       "       [-0.4025086 ,  0.50681835, -0.81856358, ...,  0.31216477,\n",
       "         0.21386715, -0.38698521],\n",
       "       [-0.40234978, -0.4798428 , -0.12855435, ...,  0.08194468,\n",
       "         0.40522729, -0.48184363],\n",
       "       ...,\n",
       "       [-0.36553835,  0.41712188, -1.09427551, ..., -2.49652038,\n",
       "         0.34767701, -0.79013351],\n",
       "       [-0.41801737, -0.4798428 , -0.91630272, ...,  0.81864898,\n",
       "         0.44100474, -0.44417926],\n",
       "       [ 0.64100532, -0.4798428 ,  0.9669994 , ...,  0.81864898,\n",
       "         0.32130892,  0.92010805]])"
      ]
     },
     "execution_count": 41,
     "metadata": {},
     "output_type": "execute_result"
    }
   ],
   "source": [
    "#The above step just took the data we fed, started with the imputing and then standardized it with standardscaler\n",
    "housing_tr"
   ]
  },
  {
   "cell_type": "code",
   "execution_count": 42,
   "metadata": {},
   "outputs": [
    {
     "data": {
      "text/plain": [
       "(404, 13)"
      ]
     },
     "execution_count": 42,
     "metadata": {},
     "output_type": "execute_result"
    }
   ],
   "source": [
    "housing_tr.shape"
   ]
  },
  {
   "cell_type": "markdown",
   "metadata": {},
   "source": [
    "# Model Selection"
   ]
  },
  {
   "cell_type": "markdown",
   "metadata": {},
   "source": [
    "### Linear Regression"
   ]
  },
  {
   "cell_type": "code",
   "execution_count": 43,
   "metadata": {},
   "outputs": [
    {
     "data": {
      "text/plain": [
       "LinearRegression(copy_X=True, fit_intercept=True, n_jobs=None, normalize=False)"
      ]
     },
     "execution_count": 43,
     "metadata": {},
     "output_type": "execute_result"
    }
   ],
   "source": [
    "from sklearn.linear_model import LinearRegression\n",
    "lr = LinearRegression()\n",
    "lr.fit(housing_tr, housing_label)"
   ]
  },
  {
   "cell_type": "code",
   "execution_count": 47,
   "metadata": {},
   "outputs": [
    {
     "data": {
      "text/plain": [
       "array([23.53442312, 20.13867832, 24.48740831, 12.98657011, 13.6618684 ])"
      ]
     },
     "execution_count": 47,
     "metadata": {},
     "output_type": "execute_result"
    }
   ],
   "source": [
    "some_data = housing_data.iloc[:5]\n",
    "some_labels = housing_label.iloc[:5]\n",
    "\n",
    "data_prepared = pipeline_data.transform(some_data)\n",
    "lr.predict(data_prepared)"
   ]
  },
  {
   "cell_type": "code",
   "execution_count": 107,
   "metadata": {},
   "outputs": [
    {
     "data": {
      "text/plain": [
       "254    21.9\n",
       "247    20.5\n",
       "215    25.0\n",
       "445    11.8\n",
       "245    18.5\n",
       "Name: MEDV, dtype: float64"
      ]
     },
     "execution_count": 107,
     "metadata": {},
     "output_type": "execute_result"
    }
   ],
   "source": [
    "some_labels"
   ]
  },
  {
   "cell_type": "markdown",
   "metadata": {},
   "source": [
    "## Model Evaluation for Linear Regression"
   ]
  },
  {
   "cell_type": "code",
   "execution_count": 52,
   "metadata": {},
   "outputs": [],
   "source": [
    "from sklearn.metrics import mean_squared_error\n",
    "predicted_data = lr.predict(housing_tr)\n",
    "lr_mse = mean_squared_error(housing_label, predicted_data)\n",
    "lr_RMSE = np.sqrt(lr_mse)"
   ]
  },
  {
   "cell_type": "code",
   "execution_count": 54,
   "metadata": {},
   "outputs": [
    {
     "data": {
      "text/plain": [
       "4.380934534654132"
      ]
     },
     "execution_count": 54,
     "metadata": {},
     "output_type": "execute_result"
    }
   ],
   "source": [
    "lr_RMSE"
   ]
  },
  {
   "cell_type": "markdown",
   "metadata": {},
   "source": [
    "There a small amount of root mean squared error which normally would be acceptable. We will check for other algorithms as well"
   ]
  },
  {
   "cell_type": "markdown",
   "metadata": {},
   "source": [
    "### Decision Trees"
   ]
  },
  {
   "cell_type": "code",
   "execution_count": 56,
   "metadata": {},
   "outputs": [
    {
     "data": {
      "text/plain": [
       "DecisionTreeRegressor(ccp_alpha=0.0, criterion='mse', max_depth=None,\n",
       "                      max_features=None, max_leaf_nodes=None,\n",
       "                      min_impurity_decrease=0.0, min_impurity_split=None,\n",
       "                      min_samples_leaf=1, min_samples_split=2,\n",
       "                      min_weight_fraction_leaf=0.0, presort='deprecated',\n",
       "                      random_state=None, splitter='best')"
      ]
     },
     "execution_count": 56,
     "metadata": {},
     "output_type": "execute_result"
    }
   ],
   "source": [
    "from sklearn.tree import DecisionTreeRegressor\n",
    "dtr = DecisionTreeRegressor()\n",
    "dtr.fit(housing_tr,housing_label)"
   ]
  },
  {
   "cell_type": "code",
   "execution_count": 58,
   "metadata": {},
   "outputs": [
    {
     "data": {
      "text/plain": [
       "array([21.9, 20.5, 25. , 11.8, 18.5])"
      ]
     },
     "execution_count": 58,
     "metadata": {},
     "output_type": "execute_result"
    }
   ],
   "source": [
    "dtr.predict(data_prepared)"
   ]
  },
  {
   "cell_type": "code",
   "execution_count": 61,
   "metadata": {},
   "outputs": [
    {
     "data": {
      "text/plain": [
       "254    21.9\n",
       "247    20.5\n",
       "215    25.0\n",
       "445    11.8\n",
       "245    18.5\n",
       "Name: MEDV, dtype: float64"
      ]
     },
     "execution_count": 61,
     "metadata": {},
     "output_type": "execute_result"
    }
   ],
   "source": [
    "some_labels"
   ]
  },
  {
   "cell_type": "markdown",
   "metadata": {},
   "source": [
    "## Model Evaluation for Decision Trees"
   ]
  },
  {
   "cell_type": "code",
   "execution_count": 64,
   "metadata": {},
   "outputs": [],
   "source": [
    "predicted_data_dtr = dtr.predict(housing_tr)\n",
    "dtr_mse = mean_squared_error(housing_label, predicted_data_dtr)\n",
    "dtr_RMSE = np.sqrt(dtr_mse)"
   ]
  },
  {
   "cell_type": "code",
   "execution_count": 66,
   "metadata": {},
   "outputs": [
    {
     "data": {
      "text/plain": [
       "0.0"
      ]
     },
     "execution_count": 66,
     "metadata": {},
     "output_type": "execute_result"
    }
   ],
   "source": [
    "dtr_RMSE"
   ]
  },
  {
   "cell_type": "markdown",
   "metadata": {},
   "source": [
    "The model showed 0 root mean squared error. This is an example of overfitting. The model basically learned the noise too to fit it well which is not good"
   ]
  },
  {
   "cell_type": "markdown",
   "metadata": {},
   "source": [
    "### Random Forest"
   ]
  },
  {
   "cell_type": "code",
   "execution_count": 85,
   "metadata": {},
   "outputs": [
    {
     "data": {
      "text/plain": [
       "RandomForestRegressor(bootstrap=True, ccp_alpha=0.0, criterion='mse',\n",
       "                      max_depth=None, max_features='auto', max_leaf_nodes=None,\n",
       "                      max_samples=None, min_impurity_decrease=0.0,\n",
       "                      min_impurity_split=None, min_samples_leaf=1,\n",
       "                      min_samples_split=2, min_weight_fraction_leaf=0.0,\n",
       "                      n_estimators=100, n_jobs=None, oob_score=False,\n",
       "                      random_state=None, verbose=0, warm_start=False)"
      ]
     },
     "execution_count": 85,
     "metadata": {},
     "output_type": "execute_result"
    }
   ],
   "source": [
    "from sklearn.ensemble import RandomForestRegressor\n",
    "rfr = RandomForestRegressor()\n",
    "rfr.fit(housing_tr, housing_label)"
   ]
  },
  {
   "cell_type": "code",
   "execution_count": 86,
   "metadata": {},
   "outputs": [
    {
     "data": {
      "text/plain": [
       "array([22.287, 20.825, 24.373, 11.524, 19.092])"
      ]
     },
     "execution_count": 86,
     "metadata": {},
     "output_type": "execute_result"
    }
   ],
   "source": [
    "rfr.predict(data_prepared)"
   ]
  },
  {
   "cell_type": "code",
   "execution_count": 87,
   "metadata": {},
   "outputs": [
    {
     "data": {
      "text/plain": [
       "254    21.9\n",
       "247    20.5\n",
       "215    25.0\n",
       "445    11.8\n",
       "245    18.5\n",
       "Name: MEDV, dtype: float64"
      ]
     },
     "execution_count": 87,
     "metadata": {},
     "output_type": "execute_result"
    }
   ],
   "source": [
    "some_labels"
   ]
  },
  {
   "cell_type": "markdown",
   "metadata": {},
   "source": [
    "## Model Evaluation for Random Forest"
   ]
  },
  {
   "cell_type": "code",
   "execution_count": 88,
   "metadata": {},
   "outputs": [],
   "source": [
    "predicted_data_rfr = rfr.predict(housing_tr)\n",
    "rfr_mse = mean_squared_error(housing_label, predicted_data_rfr)\n",
    "rfr_RMSE = np.sqrt(rfr_mse)"
   ]
  },
  {
   "cell_type": "code",
   "execution_count": 89,
   "metadata": {},
   "outputs": [
    {
     "data": {
      "text/plain": [
       "1.354456348502969"
      ]
     },
     "execution_count": 89,
     "metadata": {},
     "output_type": "execute_result"
    }
   ],
   "source": [
    "rfr_RMSE"
   ]
  },
  {
   "cell_type": "markdown",
   "metadata": {},
   "source": [
    "## Cross Validation"
   ]
  },
  {
   "cell_type": "markdown",
   "metadata": {},
   "source": [
    "**For Decision Trees**"
   ]
  },
  {
   "cell_type": "code",
   "execution_count": 75,
   "metadata": {},
   "outputs": [],
   "source": [
    "from sklearn.model_selection import cross_val_score\n",
    "\n",
    "#to increase the utility, we will use scoring as neg_mean_squared_error\n",
    "cvs_dtr = cross_val_score(dtr, housing_tr, housing_label, scoring = \"neg_mean_squared_error\", cv = 10)\n",
    "cv_rmse = np.sqrt(-cvs_dtr)"
   ]
  },
  {
   "cell_type": "code",
   "execution_count": 76,
   "metadata": {},
   "outputs": [
    {
     "data": {
      "text/plain": [
       "array([5.7263831 , 5.82823238, 2.77026898, 3.62154798, 5.0240422 ,\n",
       "       2.68179045, 3.93741667, 3.2330713 , 3.9887028 , 4.07513803])"
      ]
     },
     "execution_count": 76,
     "metadata": {},
     "output_type": "execute_result"
    }
   ],
   "source": [
    "cv_rmse"
   ]
  },
  {
   "cell_type": "markdown",
   "metadata": {},
   "source": [
    "**For Linear Regression**"
   ]
  },
  {
   "cell_type": "code",
   "execution_count": 79,
   "metadata": {},
   "outputs": [],
   "source": [
    "cvs_lr = cross_val_score(lr, housing_tr, housing_label, scoring = \"neg_mean_squared_error\", cv = 10)\n",
    "cv_lr_rmse = np.sqrt(-cvs_lr)"
   ]
  },
  {
   "cell_type": "code",
   "execution_count": 81,
   "metadata": {},
   "outputs": [
    {
     "data": {
      "text/plain": [
       "array([5.6961619 , 6.20184926, 4.05148454, 4.14633822, 4.70501226,\n",
       "       3.90707029, 4.3989854 , 4.29527237, 3.37837636, 3.95108676])"
      ]
     },
     "execution_count": 81,
     "metadata": {},
     "output_type": "execute_result"
    }
   ],
   "source": [
    "cv_lr_rmse"
   ]
  },
  {
   "cell_type": "markdown",
   "metadata": {},
   "source": [
    "**For Random Forest**"
   ]
  },
  {
   "cell_type": "code",
   "execution_count": 91,
   "metadata": {},
   "outputs": [],
   "source": [
    "cvs_rfr = cross_val_score(rfr, housing_tr, housing_label, scoring = \"neg_mean_squared_error\", cv = 10)\n",
    "cv_rfr_rmse = np.sqrt(-cvs_rfr)"
   ]
  },
  {
   "cell_type": "code",
   "execution_count": 92,
   "metadata": {},
   "outputs": [
    {
     "data": {
      "text/plain": [
       "array([4.39178583, 4.98267534, 2.64517949, 2.88453076, 3.62277159,\n",
       "       3.2457145 , 2.91775025, 2.31863485, 2.43109756, 2.78927251])"
      ]
     },
     "execution_count": 92,
     "metadata": {},
     "output_type": "execute_result"
    }
   ],
   "source": [
    "cv_rfr_rmse"
   ]
  },
  {
   "cell_type": "markdown",
   "metadata": {},
   "source": [
    "#### Function to print rmse scores, mean and standard deviation"
   ]
  },
  {
   "cell_type": "code",
   "execution_count": 82,
   "metadata": {},
   "outputs": [],
   "source": [
    "def details(score):\n",
    "    print(\"RMSE: \", score)\n",
    "    print(\"Mean: \", score.mean())\n",
    "    print(\"Standard deviation: \", score.std())"
   ]
  },
  {
   "cell_type": "code",
   "execution_count": 83,
   "metadata": {},
   "outputs": [
    {
     "name": "stdout",
     "output_type": "stream",
     "text": [
      "RMSE:  [5.7263831  5.82823238 2.77026898 3.62154798 5.0240422  2.68179045\n",
      " 3.93741667 3.2330713  3.9887028  4.07513803]\n",
      "Mean:  4.088659387925705\n",
      "Standard deviation:  1.0622570401193372\n"
     ]
    }
   ],
   "source": [
    "#For decision tree\n",
    "details(cv_rmse)"
   ]
  },
  {
   "cell_type": "code",
   "execution_count": 84,
   "metadata": {},
   "outputs": [
    {
     "name": "stdout",
     "output_type": "stream",
     "text": [
      "RMSE:  [5.6961619  6.20184926 4.05148454 4.14633822 4.70501226 3.90707029\n",
      " 4.3989854  4.29527237 3.37837636 3.95108676]\n",
      "Mean:  4.473163737092431\n",
      "Standard deviation:  0.8155484943667487\n"
     ]
    }
   ],
   "source": [
    "#For Linear regression\n",
    "details(cv_lr_rmse)"
   ]
  },
  {
   "cell_type": "code",
   "execution_count": 93,
   "metadata": {},
   "outputs": [
    {
     "name": "stdout",
     "output_type": "stream",
     "text": [
      "RMSE:  [4.39178583 4.98267534 2.64517949 2.88453076 3.62277159 3.2457145\n",
      " 2.91775025 2.31863485 2.43109756 2.78927251]\n",
      "Mean:  3.2229412679719793\n",
      "Standard deviation:  0.8244738666202572\n"
     ]
    }
   ],
   "source": [
    "#For Random forest\n",
    "details(cv_rfr_rmse)"
   ]
  },
  {
   "cell_type": "markdown",
   "metadata": {},
   "source": [
    "**We can clearly notice that the Random Forest worked very well as compared to other models. We will consider random forest for our final usage on the whole dataset**"
   ]
  },
  {
   "cell_type": "code",
   "execution_count": 105,
   "metadata": {},
   "outputs": [
    {
     "data": {
      "text/plain": [
       "['Model_use.joblib']"
      ]
     },
     "execution_count": 105,
     "metadata": {},
     "output_type": "execute_result"
    }
   ],
   "source": [
    "from joblib import dump, load\n",
    "dump(rfr, 'Model_use.joblib')"
   ]
  },
  {
   "cell_type": "markdown",
   "metadata": {},
   "source": [
    "# Model Testing on test dataset"
   ]
  },
  {
   "cell_type": "code",
   "execution_count": 94,
   "metadata": {},
   "outputs": [],
   "source": [
    "X_test = strat_test_set.drop(\"MEDV\", axis=1)\n",
    "Y_test = strat_test_set[\"MEDV\"].copy()"
   ]
  },
  {
   "cell_type": "markdown",
   "metadata": {},
   "source": [
    "**Using Linear regression model**"
   ]
  },
  {
   "cell_type": "code",
   "execution_count": 98,
   "metadata": {},
   "outputs": [
    {
     "data": {
      "text/plain": [
       "5.930843252594091"
      ]
     },
     "execution_count": 98,
     "metadata": {},
     "output_type": "execute_result"
    }
   ],
   "source": [
    "X_test_prepared_lr = pipeline_data.transform(X_test)\n",
    "lr_predictions = lr.predict(X_test_prepared_lr)\n",
    "test_lr_mse = mean_squared_error(Y_test, lr_predictions)\n",
    "test_lr_rmse = np.sqrt(test_lr_mse)\n",
    "test_lr_rmse"
   ]
  },
  {
   "cell_type": "code",
   "execution_count": 102,
   "metadata": {},
   "outputs": [
    {
     "data": {
      "text/html": [
       "<div>\n",
       "<style scoped>\n",
       "    .dataframe tbody tr th:only-of-type {\n",
       "        vertical-align: middle;\n",
       "    }\n",
       "\n",
       "    .dataframe tbody tr th {\n",
       "        vertical-align: top;\n",
       "    }\n",
       "\n",
       "    .dataframe thead th {\n",
       "        text-align: right;\n",
       "    }\n",
       "</style>\n",
       "<table border=\"1\" class=\"dataframe\">\n",
       "  <thead>\n",
       "    <tr style=\"text-align: right;\">\n",
       "      <th></th>\n",
       "      <th>lr_predictions</th>\n",
       "      <th>Y_test</th>\n",
       "      <th>Residual</th>\n",
       "    </tr>\n",
       "  </thead>\n",
       "  <tbody>\n",
       "    <tr>\n",
       "      <th>109</th>\n",
       "      <td>19.716467</td>\n",
       "      <td>19.4</td>\n",
       "      <td>-0.316467</td>\n",
       "    </tr>\n",
       "    <tr>\n",
       "      <th>106</th>\n",
       "      <td>16.950050</td>\n",
       "      <td>19.5</td>\n",
       "      <td>2.549950</td>\n",
       "    </tr>\n",
       "    <tr>\n",
       "      <th>82</th>\n",
       "      <td>25.667991</td>\n",
       "      <td>24.8</td>\n",
       "      <td>-0.867991</td>\n",
       "    </tr>\n",
       "    <tr>\n",
       "      <th>60</th>\n",
       "      <td>17.594414</td>\n",
       "      <td>18.7</td>\n",
       "      <td>1.105586</td>\n",
       "    </tr>\n",
       "    <tr>\n",
       "      <th>179</th>\n",
       "      <td>32.699975</td>\n",
       "      <td>37.2</td>\n",
       "      <td>4.500025</td>\n",
       "    </tr>\n",
       "  </tbody>\n",
       "</table>\n",
       "</div>"
      ],
      "text/plain": [
       "     lr_predictions  Y_test  Residual\n",
       "109       19.716467    19.4 -0.316467\n",
       "106       16.950050    19.5  2.549950\n",
       "82        25.667991    24.8 -0.867991\n",
       "60        17.594414    18.7  1.105586\n",
       "179       32.699975    37.2  4.500025"
      ]
     },
     "execution_count": 102,
     "metadata": {},
     "output_type": "execute_result"
    }
   ],
   "source": [
    "values_lr = pd.DataFrame({\"lr_predictions\":lr_predictions,\"Y_test\":Y_test, \"Residual\": Y_test-lr_predictions})\n",
    "values_lr.head()"
   ]
  },
  {
   "cell_type": "markdown",
   "metadata": {},
   "source": [
    "**Using Decision tree model**"
   ]
  },
  {
   "cell_type": "code",
   "execution_count": 96,
   "metadata": {},
   "outputs": [
    {
     "data": {
      "text/plain": [
       "5.133435191248166"
      ]
     },
     "execution_count": 96,
     "metadata": {},
     "output_type": "execute_result"
    }
   ],
   "source": [
    "X_test_prepared_dtr = pipeline_data.transform(X_test)\n",
    "dtr_predictions = dtr.predict(X_test_prepared_dtr)\n",
    "test_dtr_mse = mean_squared_error(Y_test, dtr_predictions)\n",
    "test_dtr_rmse = np.sqrt(test_dtr_mse)\n",
    "test_dtr_rmse"
   ]
  },
  {
   "cell_type": "code",
   "execution_count": 103,
   "metadata": {},
   "outputs": [
    {
     "data": {
      "text/html": [
       "<div>\n",
       "<style scoped>\n",
       "    .dataframe tbody tr th:only-of-type {\n",
       "        vertical-align: middle;\n",
       "    }\n",
       "\n",
       "    .dataframe tbody tr th {\n",
       "        vertical-align: top;\n",
       "    }\n",
       "\n",
       "    .dataframe thead th {\n",
       "        text-align: right;\n",
       "    }\n",
       "</style>\n",
       "<table border=\"1\" class=\"dataframe\">\n",
       "  <thead>\n",
       "    <tr style=\"text-align: right;\">\n",
       "      <th></th>\n",
       "      <th>dtr_predictions</th>\n",
       "      <th>Y_test</th>\n",
       "      <th>Residual</th>\n",
       "    </tr>\n",
       "  </thead>\n",
       "  <tbody>\n",
       "    <tr>\n",
       "      <th>109</th>\n",
       "      <td>27.1</td>\n",
       "      <td>19.4</td>\n",
       "      <td>-7.7</td>\n",
       "    </tr>\n",
       "    <tr>\n",
       "      <th>106</th>\n",
       "      <td>22.4</td>\n",
       "      <td>19.5</td>\n",
       "      <td>-2.9</td>\n",
       "    </tr>\n",
       "    <tr>\n",
       "      <th>82</th>\n",
       "      <td>22.9</td>\n",
       "      <td>24.8</td>\n",
       "      <td>1.9</td>\n",
       "    </tr>\n",
       "    <tr>\n",
       "      <th>60</th>\n",
       "      <td>17.2</td>\n",
       "      <td>18.7</td>\n",
       "      <td>1.5</td>\n",
       "    </tr>\n",
       "    <tr>\n",
       "      <th>179</th>\n",
       "      <td>37.9</td>\n",
       "      <td>37.2</td>\n",
       "      <td>-0.7</td>\n",
       "    </tr>\n",
       "  </tbody>\n",
       "</table>\n",
       "</div>"
      ],
      "text/plain": [
       "     dtr_predictions  Y_test  Residual\n",
       "109             27.1    19.4      -7.7\n",
       "106             22.4    19.5      -2.9\n",
       "82              22.9    24.8       1.9\n",
       "60              17.2    18.7       1.5\n",
       "179             37.9    37.2      -0.7"
      ]
     },
     "execution_count": 103,
     "metadata": {},
     "output_type": "execute_result"
    }
   ],
   "source": [
    "values_dtr = pd.DataFrame({\"dtr_predictions\":dtr_predictions,\"Y_test\":Y_test, \"Residual\": Y_test-dtr_predictions})\n",
    "values_dtr.head()"
   ]
  },
  {
   "cell_type": "markdown",
   "metadata": {},
   "source": [
    "**Using Random Forest Regressor**"
   ]
  },
  {
   "cell_type": "code",
   "execution_count": 97,
   "metadata": {},
   "outputs": [
    {
     "data": {
      "text/plain": [
       "4.2588060844215345"
      ]
     },
     "execution_count": 97,
     "metadata": {},
     "output_type": "execute_result"
    }
   ],
   "source": [
    "X_test_prepared_rfr = pipeline_data.transform(X_test)\n",
    "rfr_predictions = rfr.predict(X_test_prepared_rfr)\n",
    "test_rfr_mse = mean_squared_error(Y_test, rfr_predictions)\n",
    "test_rfr_rmse = np.sqrt(test_rfr_mse)\n",
    "test_rfr_rmse"
   ]
  },
  {
   "cell_type": "code",
   "execution_count": 104,
   "metadata": {},
   "outputs": [
    {
     "data": {
      "text/html": [
       "<div>\n",
       "<style scoped>\n",
       "    .dataframe tbody tr th:only-of-type {\n",
       "        vertical-align: middle;\n",
       "    }\n",
       "\n",
       "    .dataframe tbody tr th {\n",
       "        vertical-align: top;\n",
       "    }\n",
       "\n",
       "    .dataframe thead th {\n",
       "        text-align: right;\n",
       "    }\n",
       "</style>\n",
       "<table border=\"1\" class=\"dataframe\">\n",
       "  <thead>\n",
       "    <tr style=\"text-align: right;\">\n",
       "      <th></th>\n",
       "      <th>rfr_predictions</th>\n",
       "      <th>Y_test</th>\n",
       "      <th>Residual</th>\n",
       "    </tr>\n",
       "  </thead>\n",
       "  <tbody>\n",
       "    <tr>\n",
       "      <th>109</th>\n",
       "      <td>19.772</td>\n",
       "      <td>19.4</td>\n",
       "      <td>-0.372</td>\n",
       "    </tr>\n",
       "    <tr>\n",
       "      <th>106</th>\n",
       "      <td>17.893</td>\n",
       "      <td>19.5</td>\n",
       "      <td>1.607</td>\n",
       "    </tr>\n",
       "    <tr>\n",
       "      <th>82</th>\n",
       "      <td>23.322</td>\n",
       "      <td>24.8</td>\n",
       "      <td>1.478</td>\n",
       "    </tr>\n",
       "    <tr>\n",
       "      <th>60</th>\n",
       "      <td>19.018</td>\n",
       "      <td>18.7</td>\n",
       "      <td>-0.318</td>\n",
       "    </tr>\n",
       "    <tr>\n",
       "      <th>179</th>\n",
       "      <td>33.344</td>\n",
       "      <td>37.2</td>\n",
       "      <td>3.856</td>\n",
       "    </tr>\n",
       "  </tbody>\n",
       "</table>\n",
       "</div>"
      ],
      "text/plain": [
       "     rfr_predictions  Y_test  Residual\n",
       "109           19.772    19.4    -0.372\n",
       "106           17.893    19.5     1.607\n",
       "82            23.322    24.8     1.478\n",
       "60            19.018    18.7    -0.318\n",
       "179           33.344    37.2     3.856"
      ]
     },
     "execution_count": 104,
     "metadata": {},
     "output_type": "execute_result"
    }
   ],
   "source": [
    "values_rfr = pd.DataFrame({\"rfr_predictions\":rfr_predictions,\"Y_test\":Y_test, \"Residual\": Y_test-rfr_predictions})\n",
    "values_rfr.head()"
   ]
  },
  {
   "cell_type": "markdown",
   "metadata": {},
   "source": [
    "## Model Usage"
   ]
  },
  {
   "cell_type": "code",
   "execution_count": 112,
   "metadata": {},
   "outputs": [
    {
     "data": {
      "text/plain": [
       "array([22.287])"
      ]
     },
     "execution_count": 112,
     "metadata": {},
     "output_type": "execute_result"
    }
   ],
   "source": [
    "#Here, random forest has been considered as the chosen model\n",
    "from joblib import dump, load\n",
    "model_use = load('Model_use.joblib')\n",
    "\n",
    "features = [data_prepared[0]]\n",
    "model_use.predict(features)"
   ]
  }
 ],
 "metadata": {
  "kernelspec": {
   "display_name": "Python 3",
   "language": "python",
   "name": "python3"
  },
  "language_info": {
   "codemirror_mode": {
    "name": "ipython",
    "version": 3
   },
   "file_extension": ".py",
   "mimetype": "text/x-python",
   "name": "python",
   "nbconvert_exporter": "python",
   "pygments_lexer": "ipython3",
   "version": "3.7.3"
  }
 },
 "nbformat": 4,
 "nbformat_minor": 2
}
